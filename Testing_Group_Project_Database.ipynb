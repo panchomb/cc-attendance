{
 "cells": [
  {
   "cell_type": "markdown",
   "id": "018a21a3-30c1-4730-8a07-9d076a51d21b",
   "metadata": {},
   "source": [
    "# Testing Group Project Database"
   ]
  },
  {
   "cell_type": "code",
   "execution_count": 5,
   "id": "85460dff-ff83-4bf5-8133-e788753fd16a",
   "metadata": {},
   "outputs": [
    {
     "name": "stdout",
     "output_type": "stream",
     "text": [
      "=== Testing connection to the Database\n",
      "SELECT now();\n",
      "[(datetime.datetime(2023, 12, 1, 23, 48, 6),)]\n",
      "=== Showing the Databases you have access to. This should include CC_8\n",
      "show databases;\n",
      "[('CC_8',), ('information_schema',), ('performance_schema',)]\n",
      "=== Dropping table event to leave a clean schema\n",
      "DROP TABLE attendance;\n",
      "=== Dropping table event to leave a clean schema\n",
      "DROP TABLE session;\n",
      "=== Dropping table event to leave a clean schema\n",
      "DROP TABLE course;\n",
      "=== Dropping table event to leave a clean schema\n",
      "DROP TABLE student;\n",
      "=== Dropping table event to leave a clean schema\n",
      "DROP TABLE professor;\n"
     ]
    }
   ],
   "source": [
    "import mysql.connector\n",
    "\n",
    "host='dockerlab.westeurope.cloudapp.azure.com'\n",
    "username='CC_8'\n",
    "password='s8SqfUTpyG7fWRkVpb75BnKbJl-ew5u6J2SZx7vfK48'\n",
    "database='CC_8'\n",
    "\n",
    "\n",
    "cnx = mysql.connector.connect(user=username, password=password,\n",
    "                                host=host, database=database)\n",
    "\n",
    "cursor = cnx.cursor()\n",
    "\n",
    "print(\"=== Testing connection to the Database\")\n",
    "sql_str='SELECT now();'\n",
    "print(sql_str)\n",
    "rs=cursor.execute(sql_str)\n",
    "rs=cursor.fetchall()\n",
    "print(rs)\n",
    "\n",
    "\n",
    "print(f\"=== Showing the Databases you have access to. This should include {database}\")\n",
    "sql_str='show databases;'\n",
    "print(sql_str)\n",
    "rs=cursor.execute(sql_str)\n",
    "rs=cursor.fetchall()\n",
    "print(rs)\n",
    "\n",
    "cursor.close() # Always close a cursor when no longer required\n",
    "cnx.close() # always close your database connections before the program exits"
   ]
  },
  {
   "cell_type": "markdown",
   "metadata": {},
   "source": [
    "# Select from table"
   ]
  },
  {
   "cell_type": "code",
   "execution_count": 7,
   "metadata": {},
   "outputs": [
    {
     "name": "stdout",
     "output_type": "stream",
     "text": [
      "SELECT * FROM student;\n",
      "[(1, 'Laura', 'Cuellar', 'laura.cuellar@student.com'), (2, 'Isabel', 'De Valenzuela', 'isabel.devalenzuela@student.com'), (3, 'Anna', 'Payne', 'anna.payne@student.com'), (4, 'Daniel', 'Rosel', 'daniel.rosel@student.com'), (5, 'Zaid', 'Saheb', 'zaid.saheb@student.com'), (6, 'Sofia', 'Vitorica', 'sofia.vitorica@student.com'), (7, 'Tomas', 'Sanchez', 'tomas.sanchez@student.com'), (8, 'Kye', 'Electriciteh', 'kye.electriciteh@student.com'), (9, 'Sammy', 'Lawy', 'sammy.lawy@student.com'), (10, 'Sky', 'Rowaldsky', 'sky.rowaldsky@student.com')]\n"
     ]
    }
   ],
   "source": [
    "import mysql.connector\n",
    "\n",
    "host='dockerlab.westeurope.cloudapp.azure.com'\n",
    "username='CC_8'\n",
    "password='s8SqfUTpyG7fWRkVpb75BnKbJl-ew5u6J2SZx7vfK48'\n",
    "database='CC_8'\n",
    "\n",
    "\n",
    "cnx = mysql.connector.connect(user=username, password=password,\n",
    "                                host=host, database=database)\n",
    "\n",
    "cursor = cnx.cursor()\n",
    "\n",
    "table = \"student\"\n",
    "\n",
    "sql_str=f'SELECT * FROM {table};'\n",
    "print(sql_str)\n",
    "rs=cursor.execute(sql_str)\n",
    "rs=cursor.fetchall()\n",
    "print(rs)\n",
    "\n",
    "cursor.close() # Always close a cursor when no longer required\n",
    "cnx.close() # always close your database connections before the program exits"
   ]
  },
  {
   "cell_type": "markdown",
   "metadata": {},
   "source": [
    "# Show tables"
   ]
  },
  {
   "cell_type": "code",
   "execution_count": 8,
   "metadata": {},
   "outputs": [
    {
     "name": "stdout",
     "output_type": "stream",
     "text": [
      "[('attendance',), ('attendance_code',), ('course',), ('professor',), ('session',), ('student',)]\n"
     ]
    }
   ],
   "source": [
    "import mysql.connector\n",
    "\n",
    "host='dockerlab.westeurope.cloudapp.azure.com'\n",
    "username='CC_8'\n",
    "password='s8SqfUTpyG7fWRkVpb75BnKbJl-ew5u6J2SZx7vfK48'\n",
    "database='CC_8'\n",
    "\n",
    "\n",
    "cnx = mysql.connector.connect(user=username, password=password,\n",
    "                                host=host, database=database)\n",
    "\n",
    "cursor = cnx.cursor()\n",
    "\n",
    "\n",
    "sql_str='show tables;'\n",
    "rs=cursor.execute(sql_str)\n",
    "rs=cursor.fetchall()\n",
    "print(rs)\n",
    "\n",
    "\n",
    "cursor.close() # Always close a cursor when no longer required\n",
    "cnx.close() # always close your database connections before the program exits"
   ]
  },
  {
   "cell_type": "markdown",
   "metadata": {},
   "source": [
    "# Drop tables"
   ]
  },
  {
   "cell_type": "code",
   "execution_count": null,
   "metadata": {},
   "outputs": [],
   "source": [
    "import mysql.connector\n",
    "\n",
    "host='dockerlab.westeurope.cloudapp.azure.com'\n",
    "username='CC_8'\n",
    "password='s8SqfUTpyG7fWRkVpb75BnKbJl-ew5u6J2SZx7vfK48'\n",
    "database='CC_8'\n",
    "\n",
    "\n",
    "cnx = mysql.connector.connect(user=username, password=password,\n",
    "                                host=host, database=database)\n",
    "\n",
    "cursor = cnx.cursor()\n",
    "\n",
    "print(\"=== Dropping table event to leave a clean schema\")\n",
    "sql_str='DROP TABLE attendance;'\n",
    "print(sql_str)\n",
    "rs=cursor.execute(sql_str)\n",
    "print(\"=== Dropping table event to leave a clean schema\")\n",
    "sql_str='DROP TABLE session;'\n",
    "print(sql_str)\n",
    "rs=cursor.execute(sql_str)\n",
    "print(\"=== Dropping table event to leave a clean schema\")\n",
    "sql_str='DROP TABLE course;'\n",
    "print(sql_str)\n",
    "rs=cursor.execute(sql_str)\n",
    "print(\"=== Dropping table event to leave a clean schema\")\n",
    "sql_str='DROP TABLE student;'\n",
    "print(sql_str)\n",
    "rs=cursor.execute(sql_str)\n",
    "print(\"=== Dropping table event to leave a clean schema\")\n",
    "sql_str='DROP TABLE professor;'\n",
    "print(sql_str)\n",
    "rs=cursor.execute(sql_str)\n",
    "\n",
    "cursor.close() # Always close a cursor when no longer required\n",
    "cnx.close() # always close your database connections before the program exits"
   ]
  }
 ],
 "metadata": {
  "kernelspec": {
   "display_name": "Python 3 (ipykernel)",
   "language": "python",
   "name": "python3"
  },
  "language_info": {
   "codemirror_mode": {
    "name": "ipython",
    "version": 3
   },
   "file_extension": ".py",
   "mimetype": "text/x-python",
   "name": "python",
   "nbconvert_exporter": "python",
   "pygments_lexer": "ipython3",
   "version": "3.11.6"
  }
 },
 "nbformat": 4,
 "nbformat_minor": 5
}
