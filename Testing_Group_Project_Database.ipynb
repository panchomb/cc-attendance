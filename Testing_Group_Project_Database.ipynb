{
 "cells": [
  {
   "cell_type": "markdown",
   "id": "018a21a3-30c1-4730-8a07-9d076a51d21b",
   "metadata": {},
   "source": [
    "# Testing Group Project Database"
   ]
  },
  {
   "cell_type": "code",
   "execution_count": 11,
   "id": "85460dff-ff83-4bf5-8133-e788753fd16a",
   "metadata": {},
   "outputs": [
    {
     "name": "stdout",
     "output_type": "stream",
     "text": [
      "=== Testing connection to the Database\n",
      "SELECT now();\n",
      "[(datetime.datetime(2023, 11, 14, 21, 17, 54),)]\n",
      "=== Showing the Databases you have access to. This should include CC_8\n",
      "show databases;\n",
      "[('CC_8',), ('information_schema',), ('performance_schema',)]\n",
      "SELECT * FROM event;\n",
      "[(1, 'javier', 'None', datetime.datetime(2023, 11, 14, 21, 11, 31)), (2, 'test', 'network', datetime.datetime(2023, 11, 14, 21, 13, 8)), (3, 'francisco', 'code', datetime.datetime(2023, 11, 14, 21, 13, 36))]\n"
     ]
    }
   ],
   "source": [
    "import mysql.connector\n",
    "\n",
    "host='dockerlab.westeurope.cloudapp.azure.com'\n",
    "username='CC_8'\n",
    "password='s8SqfUTpyG7fWRkVpb75BnKbJl-ew5u6J2SZx7vfK48'\n",
    "database='CC_8'\n",
    "\n",
    "\n",
    "cnx = mysql.connector.connect(user=username, password=password,\n",
    "                                host=host, database=database)\n",
    "\n",
    "cursor = cnx.cursor()\n",
    "\n",
    "print(\"=== Testing connection to the Database\")\n",
    "sql_str='SELECT now();'\n",
    "print(sql_str)\n",
    "rs=cursor.execute(sql_str)\n",
    "rs=cursor.fetchall()\n",
    "print(rs)\n",
    "\n",
    "\n",
    "print(f\"=== Showing the Databases you have access to. This should include {database}\")\n",
    "sql_str='show databases;'\n",
    "print(sql_str)\n",
    "rs=cursor.execute(sql_str)\n",
    "rs=cursor.fetchall()\n",
    "print(rs)\n",
    "\n",
    "\n",
    "# print(\"=== Create a sample table: event\")\n",
    "# sql_str='''CREATE TABLE IF NOT EXISTS event (\n",
    "#     id INT  NOT NULL AUTO_INCREMENT, \n",
    "#     name VARCHAR(20) , \n",
    "#     state VARCHAR(20),\n",
    "#     datetime DATETIME NOT NULL,\n",
    "#     PRIMARY KEY(id)\n",
    "# );'''\n",
    "# print(sql_str)\n",
    "\n",
    "# cursor.execute(sql_str)\n",
    "\n",
    "# sql_str='show tables;'\n",
    "# print(sql_str)\n",
    "# rs=cursor.execute(sql_str)\n",
    "# rs=cursor.fetchall()\n",
    "# print(rs)\n",
    "\n",
    "# print(\"=== Inserting a record into event\")\n",
    "# sql_str=f\"INSERT INTO event(name, state, datetime) VALUES ('test','live',NOW())\"\n",
    "# print(sql_str)\n",
    "# cursor.execute(sql_str)\n",
    "# cnx.commit() # commit is required when you run INSERT statement, to persist new data to tables\n",
    "\n",
    "sql_str='SELECT * FROM event;'\n",
    "print(sql_str)\n",
    "rs=cursor.execute(sql_str)\n",
    "rs=cursor.fetchall()\n",
    "print(rs)\n",
    "\n",
    "# print(\"=== Dropping table event to leave a clean schema\")\n",
    "# sql_str='DROP TABLE event;'\n",
    "# print(sql_str)\n",
    "# rs=cursor.execute(sql_str)\n",
    "\n",
    "# sql_str='show tables;'\n",
    "# rs=cursor.execute(sql_str)\n",
    "# rs=cursor.fetchall()\n",
    "# print(rs)\n",
    "\n",
    "\n",
    "cursor.close() # Always close a cursor when no longer required\n",
    "cnx.close() # always close your database connections before the program exits"
   ]
  },
  {
   "cell_type": "code",
   "execution_count": null,
   "id": "35172c94-7bba-462f-a574-eb42e226ded5",
   "metadata": {},
   "outputs": [],
   "source": []
  }
 ],
 "metadata": {
  "kernelspec": {
   "display_name": "Python 3 (ipykernel)",
   "language": "python",
   "name": "python3"
  },
  "language_info": {
   "codemirror_mode": {
    "name": "ipython",
    "version": 3
   },
   "file_extension": ".py",
   "mimetype": "text/x-python",
   "name": "python",
   "nbconvert_exporter": "python",
   "pygments_lexer": "ipython3",
   "version": "3.11.6"
  }
 },
 "nbformat": 4,
 "nbformat_minor": 5
}
